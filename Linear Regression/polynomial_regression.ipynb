{
 "cells": [
  {
   "cell_type": "code",
   "execution_count": 3,
   "id": "aad187f8",
   "metadata": {},
   "outputs": [],
   "source": [
    "import pandas  as pd\n",
    "import numpy as np\n",
    "import matplotlib.pyplot as plt\n",
    "import seaborn as sns  \n"
   ]
  },
  {
   "cell_type": "code",
   "execution_count": 5,
   "id": "3abbb95a",
   "metadata": {},
   "outputs": [],
   "source": [
    "X=6 * np.random.rand(100,1)-3\n",
    "y=0.5 * X**2 + 1.5*X +2 + np.random.randn(100,1)"
   ]
  },
  {
   "cell_type": "code",
   "execution_count": 7,
   "id": "e8131f3a",
   "metadata": {},
   "outputs": [
    {
     "data": {
      "text/plain": [
       "<matplotlib.collections.PathCollection at 0x141d84110>"
      ]
     },
     "execution_count": 7,
     "metadata": {},
     "output_type": "execute_result"
    },
    {
     "data": {
      "image/png": "[encoded data removed]",
      "text/plain": [
       "<Figure size 640x480 with 1 Axes>"
      ]
     },
     "metadata": {},
     "output_type": "display_data"
    }
   ],
   "source": [
    "plt.scatter(X,y)"
   ]
  },
  {
   "cell_type": "code",
   "execution_count": 9,
   "id": "015c64c0",
   "metadata": {},
   "outputs": [],
   "source": [
    "from sklearn.model_selection import train_test_split\n",
    "X_train,X_test,y_train,y_test=train_test_split(X,y,train_size=0.2,random_state=42)"
   ]
  },
  {
   "cell_type": "code",
   "execution_count": 10,
   "id": "89cfdbd5",
   "metadata": {},
   "outputs": [],
   "source": [
    "from sklearn.linear_model import LinearRegression\n",
    "regression=LinearRegression()"
   ]
  },
  {
   "cell_type": "code",
   "execution_count": 12,
   "id": "0b8bd4d9",
   "metadata": {},
   "outputs": [
    {
     "data": {
      "text/plain": [
       "array([[-1.28331347e+00],\n",
       "       [-4.15669704e-01],\n",
       "       [ 1.43179553e+00],\n",
       "       [ 2.11902055e+00],\n",
       "       [-6.81237723e-01],\n",
       "       [-1.29959871e+00],\n",
       "       [ 1.49782306e+00],\n",
       "       [ 4.89758108e-02],\n",
       "       [-2.17867703e+00],\n",
       "       [ 2.74467266e+00],\n",
       "       [ 2.98302658e-01],\n",
       "       [-1.47372922e+00],\n",
       "       [ 2.67799851e+00],\n",
       "       [-2.79580437e+00],\n",
       "       [ 2.24972359e+00],\n",
       "       [-2.44667157e-03],\n",
       "       [ 1.91731739e+00],\n",
       "       [-2.73330097e+00],\n",
       "       [ 1.52073285e+00],\n",
       "       [ 2.12648264e+00]])"
      ]
     },
     "execution_count": 12,
     "metadata": {},
     "output_type": "execute_result"
    }
   ],
   "source": [
    "X_train"
   ]
  },
  {
   "cell_type": "code",
   "execution_count": 11,
   "id": "fb7c7c4f",
   "metadata": {},
   "outputs": [
    {
     "data": {
      "text/html": [
       "<style>#sk-container-id-1 {\n",
       "  /* Definition of color scheme common for light and dark mode */\n",
       "  --sklearn-color-text: #000;\n",
       "  --sklearn-color-text-muted: #666;\n",
       "  --sklearn-color-line: gray;\n",
       "  /* Definition of color scheme for unfitted estimators */\n",
       "  --sklearn-color-unfitted-level-0: #fff5e6;\n",
       "  --sklearn-color-unfitted-level-1: #f6e4d2;\n",
       "  --sklearn-color-unfitted-level-2: #ffe0b3;\n",
       "  --sklearn-color-unfitted-level-3: chocolate;\n",
       "  /* Definition of color scheme for fitted estimators */\n",
       "  --sklearn-color-fitted-level-0: #f0f8ff;\n",
       "  --sklearn-color-fitted-level-1: #d4ebff;\n",
       "  --sklearn-color-fitted-level-2: #b3dbfd;\n",
       "  --sklearn-color-fitted-level-3: cornflowerblue;\n",
       "\n",
       "  /* Specific color for light theme */\n",
       "  --sklearn-color-text-on-default-background: var(--sg-text-color, var(--theme-code-foreground, var(--jp-content-font-color1, black)));\n",
       "  --sklearn-color-background: var(--sg-background-color, var(--theme-background, var(--jp-layout-color0, white)));\n",
       "  --sklearn-color-border-box: var(--sg-text-color, var(--theme-code-foreground, var(--jp-content-font-color1, black)));\n",
       "  --sklearn-color-icon: #696969;\n",
       "\n",
       "  @media (prefers-color-scheme: dark) {\n",
       "    /* Redefinition of color scheme for dark theme */\n",
       "    --sklearn-color-text-on-default-background: var(--sg-text-color, var(--theme-code-foreground, var(--jp-content-font-color1, white)));\n",
       "    --sklearn-color-background: var(--sg-background-color, var(--theme-background, var(--jp-layout-color0, #111)));\n",
       "    --sklearn-color-border-box: var(--sg-text-color, var(--theme-code-foreground, var(--jp-content-font-color1, white)));\n",
       "    --sklearn-color-icon: #878787;\n",
       "  }\n",
       "}\n",
       "\n",
       "#sk-container-id-1 {\n",
       "  color: var(--sklearn-color-text);\n",
       "}\n",
       "\n",
       "#sk-container-id-1 pre {\n",
       "  padding: 0;\n",
       "}\n",
       "\n",
       "#sk-container-id-1 input.sk-hidden--visually {\n",
       "  border: 0;\n",
       "  clip: rect(1px 1px 1px 1px);\n",
       "  clip: rect(1px, 1px, 1px, 1px);\n",
       "  height: 1px;\n",
       "  margin: -1px;\n",
       "  overflow: hidden;\n",
       "  padding: 0;\n",
       "  position: absolute;\n",
       "  width: 1px;\n",
       "}\n",
       "\n",
       "#sk-container-id-1 div.sk-dashed-wrapped {\n",
       "  border: 1px dashed var(--sklearn-color-line);\n",
       "  margin: 0 0.4em 0.5em 0.4em;\n",
       "  box-sizing: border-box;\n",
       "  padding-bottom: 0.4em;\n",
       "  background-color: var(--sklearn-color-background);\n",
       "}\n",
       "\n",
       "#sk-container-id-1 div.sk-container {\n",
       "  /* jupyter's `normalize.less` sets `[hidden] { display: none; }`\n",
       "     but bootstrap.min.css set `[hidden] { display: none !important; }`\n",
       "     so we also need the `!important` here to be able to override the\n",
       "     default hidden behavior on the sphinx rendered scikit-learn.org.\n",
       "     See: https://github.com/scikit-learn/scikit-learn/issues/21755 */\n",
       "  display: inline-block !important;\n",
       "  position: relative;\n",
       "}\n",
       "\n",
       "#sk-container-id-1 div.sk-text-repr-fallback {\n",
       "  display: none;\n",
       "}\n",
       "\n",
       "div.sk-parallel-item,\n",
       "div.sk-serial,\n",
       "div.sk-item {\n",
       "  /* draw centered vertical line to link estimators */\n",
       "  background-image: linear-gradient(var(--sklearn-color-text-on-default-background), var(--sklearn-color-text-on-default-background));\n",
       "  background-size: 2px 100%;\n",
       "  background-repeat: no-repeat;\n",
       "  background-position: center center;\n",
       "}\n",
       "\n",
       "/* Parallel-specific style estimator block */\n",
       "\n",
       "#sk-container-id-1 div.sk-parallel-item::after {\n",
       "  content: \"\";\n",
       "  width: 100%;\n",
       "  border-bottom: 2px solid var(--sklearn-color-text-on-default-background);\n",
       "  flex-grow: 1;\n",
       "}\n",
       "\n",
       "#sk-container-id-1 div.sk-parallel {\n",
       "  display: flex;\n",
       "  align-items: stretch;\n",
       "  justify-content: center;\n",
       "  background-color: var(--sklearn-color-background);\n",
       "  position: relative;\n",
       "}\n",
       "\n",
       "#sk-container-id-1 div.sk-parallel-item {\n",
       "  display: flex;\n",
       "  flex-direction: column;\n",
       "}\n",
       "\n",
       "#sk-container-id-1 div.sk-parallel-item:first-child::after {\n",
       "  align-self: flex-end;\n",
       "  width: 50%;\n",
       "}\n",
       "\n",
       "#sk-container-id-1 div.sk-parallel-item:last-child::after {\n",
       "  align-self: flex-start;\n",
       "  width: 50%;\n",
       "}\n",
       "\n",
       "#sk-container-id-1 div.sk-parallel-item:only-child::after {\n",
       "  width: 0;\n",
       "}\n",
       "\n",
       "/* Serial-specific style estimator block */\n",
       "\n",
       "#sk-container-id-1 div.sk-serial {\n",
       "  display: flex;\n",
       "  flex-direction: column;\n",
       "  align-items: center;\n",
       "  background-color: var(--sklearn-color-background);\n",
       "  padding-right: 1em;\n",
       "  padding-left: 1em;\n",
       "}\n",
       "\n",
       "\n",
       "/* Toggleable style: style used for estimator/Pipeline/ColumnTransformer box that is\n",
       "clickable and can be expanded/collapsed.\n",
       "- Pipeline and ColumnTransformer use this feature and define the default style\n",
       "- Estimators will overwrite some part of the style using the `sk-estimator` class\n",
       "*/\n",
       "\n",
       "/* Pipeline and ColumnTransformer style (default) */\n",
       "\n",
       "#sk-container-id-1 div.sk-toggleable {\n",
       "  /* Default theme specific background. It is overwritten whether we have a\n",
       "  specific estimator or a Pipeline/ColumnTransformer */\n",
       "  background-color: var(--sklearn-color-background);\n",
       "}\n",
       "\n",
       "/* Toggleable label */\n",
       "#sk-container-id-1 label.sk-toggleable__label {\n",
       "  cursor: pointer;\n",
       "  display: flex;\n",
       "  width: 100%;\n",
       "  margin-bottom: 0;\n",
       "  padding: 0.5em;\n",
       "  box-sizing: border-box;\n",
       "  text-align: center;\n",
       "  align-items: start;\n",
       "  justify-content: space-between;\n",
       "  gap: 0.5em;\n",
       "}\n",
       "\n",
       "#sk-container-id-1 label.sk-toggleable__label .caption {\n",
       "  font-size: 0.6rem;\n",
       "  font-weight: lighter;\n",
       "  color: var(--sklearn-color-text-muted);\n",
       "}\n",
       "\n",
       "#sk-container-id-1 label.sk-toggleable__label-arrow:before {\n",
       "  /* Arrow on the left of the label */\n",
       "  content: \"▸\";\n",
       "  float: left;\n",
       "  margin-right: 0.25em;\n",
       "  color: var(--sklearn-color-icon);\n",
       "}\n",
       "\n",
       "#sk-container-id-1 label.sk-toggleable__label-arrow:hover:before {\n",
       "  color: var(--sklearn-color-text);\n",
       "}\n",
       "\n",
       "/* Toggleable content - dropdown */\n",
       "\n",
       "#sk-container-id-1 div.sk-toggleable__content {\n",
       "  max-height: 0;\n",
       "  max-width: 0;\n",
       "  overflow: hidden;\n",
       "  text-align: left;\n",
       "  /* unfitted */\n",
       "  background-color: var(--sklearn-color-unfitted-level-0);\n",
       "}\n",
       "\n",
       "#sk-container-id-1 div.sk-toggleable__content.fitted {\n",
       "  /* fitted */\n",
       "  background-color: var(--sklearn-color-fitted-level-0);\n",
       "}\n",
       "\n",
       "#sk-container-id-1 div.sk-toggleable__content pre {\n",
       "  margin: 0.2em;\n",
       "  border-radius: 0.25em;\n",
       "  color: var(--sklearn-color-text);\n",
       "  /* unfitted */\n",
       "  background-color: var(--sklearn-color-unfitted-level-0);\n",
       "}\n",
       "\n",
       "#sk-container-id-1 div.sk-toggleable__content.fitted pre {\n",
       "  /* unfitted */\n",
       "  background-color: var(--sklearn-color-fitted-level-0);\n",
       "}\n",
       "\n",
       "#sk-container-id-1 input.sk-toggleable__control:checked~div.sk-toggleable__content {\n",
       "  /* Expand drop-down */\n",
       "  max-height: 200px;\n",
       "  max-width: 100%;\n",
       "  overflow: auto;\n",
       "}\n",
       "\n",
       "#sk-container-id-1 input.sk-toggleable__control:checked~label.sk-toggleable__label-arrow:before {\n",
       "  content: \"▾\";\n",
       "}\n",
       "\n",
       "/* Pipeline/ColumnTransformer-specific style */\n",
       "\n",
       "#sk-container-id-1 div.sk-label input.sk-toggleable__control:checked~label.sk-toggleable__label {\n",
       "  color: var(--sklearn-color-text);\n",
       "  background-color: var(--sklearn-color-unfitted-level-2);\n",
       "}\n",
       "\n",
       "#sk-container-id-1 div.sk-label.fitted input.sk-toggleable__control:checked~label.sk-toggleable__label {\n",
       "  background-color: var(--sklearn-color-fitted-level-2);\n",
       "}\n",
       "\n",
       "/* Estimator-specific style */\n",
       "\n",
       "/* Colorize estimator box */\n",
       "#sk-container-id-1 div.sk-estimator input.sk-toggleable__control:checked~label.sk-toggleable__label {\n",
       "  /* unfitted */\n",
       "  background-color: var(--sklearn-color-unfitted-level-2);\n",
       "}\n",
       "\n",
       "#sk-container-id-1 div.sk-estimator.fitted input.sk-toggleable__control:checked~label.sk-toggleable__label {\n",
       "  /* fitted */\n",
       "  background-color: var(--sklearn-color-fitted-level-2);\n",
       "}\n",
       "\n",
       "#sk-container-id-1 div.sk-label label.sk-toggleable__label,\n",
       "#sk-container-id-1 div.sk-label label {\n",
       "  /* The background is the default theme color */\n",
       "  color: var(--sklearn-color-text-on-default-background);\n",
       "}\n",
       "\n",
       "/* On hover, darken the color of the background */\n",
       "#sk-container-id-1 div.sk-label:hover label.sk-toggleable__label {\n",
       "  color: var(--sklearn-color-text);\n",
       "  background-color: var(--sklearn-color-unfitted-level-2);\n",
       "}\n",
       "\n",
       "/* Label box, darken color on hover, fitted */\n",
       "#sk-container-id-1 div.sk-label.fitted:hover label.sk-toggleable__label.fitted {\n",
       "  color: var(--sklearn-color-text);\n",
       "  background-color: var(--sklearn-color-fitted-level-2);\n",
       "}\n",
       "\n",
       "/* Estimator label */\n",
       "\n",
       "#sk-container-id-1 div.sk-label label {\n",
       "  font-family: monospace;\n",
       "  font-weight: bold;\n",
       "  display: inline-block;\n",
       "  line-height: 1.2em;\n",
       "}\n",
       "\n",
       "#sk-container-id-1 div.sk-label-container {\n",
       "  text-align: center;\n",
       "}\n",
       "\n",
       "/* Estimator-specific */\n",
       "#sk-container-id-1 div.sk-estimator {\n",
       "  font-family: monospace;\n",
       "  border: 1px dotted var(--sklearn-color-border-box);\n",
       "  border-radius: 0.25em;\n",
       "  box-sizing: border-box;\n",
       "  margin-bottom: 0.5em;\n",
       "  /* unfitted */\n",
       "  background-color: var(--sklearn-color-unfitted-level-0);\n",
       "}\n",
       "\n",
       "#sk-container-id-1 div.sk-estimator.fitted {\n",
       "  /* fitted */\n",
       "  background-color: var(--sklearn-color-fitted-level-0);\n",
       "}\n",
       "\n",
       "/* on hover */\n",
       "#sk-container-id-1 div.sk-estimator:hover {\n",
       "  /* unfitted */\n",
       "  background-color: var(--sklearn-color-unfitted-level-2);\n",
       "}\n",
       "\n",
       "#sk-container-id-1 div.sk-estimator.fitted:hover {\n",
       "  /* fitted */\n",
       "  background-color: var(--sklearn-color-fitted-level-2);\n",
       "}\n",
       "\n",
       "/* Specification for estimator info (e.g. \"i\" and \"?\") */\n",
       "\n",
       "/* Common style for \"i\" and \"?\" */\n",
       "\n",
       ".sk-estimator-doc-link,\n",
       "a:link.sk-estimator-doc-link,\n",
       "a:visited.sk-estimator-doc-link {\n",
       "  float: right;\n",
       "  font-size: smaller;\n",
       "  line-height: 1em;\n",
       "  font-family: monospace;\n",
       "  background-color: var(--sklearn-color-background);\n",
       "  border-radius: 1em;\n",
       "  height: 1em;\n",
       "  width: 1em;\n",
       "  text-decoration: none !important;\n",
       "  margin-left: 0.5em;\n",
       "  text-align: center;\n",
       "  /* unfitted */\n",
       "  border: var(--sklearn-color-unfitted-level-1) 1pt solid;\n",
       "  color: var(--sklearn-color-unfitted-level-1);\n",
       "}\n",
       "\n",
       ".sk-estimator-doc-link.fitted,\n",
       "a:link.sk-estimator-doc-link.fitted,\n",
       "a:visited.sk-estimator-doc-link.fitted {\n",
       "  /* fitted */\n",
       "  border: var(--sklearn-color-fitted-level-1) 1pt solid;\n",
       "  color: var(--sklearn-color-fitted-level-1);\n",
       "}\n",
       "\n",
       "/* On hover */\n",
       "div.sk-estimator:hover .sk-estimator-doc-link:hover,\n",
       ".sk-estimator-doc-link:hover,\n",
       "div.sk-label-container:hover .sk-estimator-doc-link:hover,\n",
       ".sk-estimator-doc-link:hover {\n",
       "  /* unfitted */\n",
       "  background-color: var(--sklearn-color-unfitted-level-3);\n",
       "  color: var(--sklearn-color-background);\n",
       "  text-decoration: none;\n",
       "}\n",
       "\n",
       "div.sk-estimator.fitted:hover .sk-estimator-doc-link.fitted:hover,\n",
       ".sk-estimator-doc-link.fitted:hover,\n",
       "div.sk-label-container:hover .sk-estimator-doc-link.fitted:hover,\n",
       ".sk-estimator-doc-link.fitted:hover {\n",
       "  /* fitted */\n",
       "  background-color: var(--sklearn-color-fitted-level-3);\n",
       "  color: var(--sklearn-color-background);\n",
       "  text-decoration: none;\n",
       "}\n",
       "\n",
       "/* Span, style for the box shown on hovering the info icon */\n",
       ".sk-estimator-doc-link span {\n",
       "  display: none;\n",
       "  z-index: 9999;\n",
       "  position: relative;\n",
       "  font-weight: normal;\n",
       "  right: .2ex;\n",
       "  padding: .5ex;\n",
       "  margin: .5ex;\n",
       "  width: min-content;\n",
       "  min-width: 20ex;\n",
       "  max-width: 50ex;\n",
       "  color: var(--sklearn-color-text);\n",
       "  box-shadow: 2pt 2pt 4pt #999;\n",
       "  /* unfitted */\n",
       "  background: var(--sklearn-color-unfitted-level-0);\n",
       "  border: .5pt solid var(--sklearn-color-unfitted-level-3);\n",
       "}\n",
       "\n",
       ".sk-estimator-doc-link.fitted span {\n",
       "  /* fitted */\n",
       "  background: var(--sklearn-color-fitted-level-0);\n",
       "  border: var(--sklearn-color-fitted-level-3);\n",
       "}\n",
       "\n",
       ".sk-estimator-doc-link:hover span {\n",
       "  display: block;\n",
       "}\n",
       "\n",
       "/* \"?\"-specific style due to the `<a>` HTML tag */\n",
       "\n",
       "#sk-container-id-1 a.estimator_doc_link {\n",
       "  float: right;\n",
       "  font-size: 1rem;\n",
       "  line-height: 1em;\n",
       "  font-family: monospace;\n",
       "  background-color: var(--sklearn-color-background);\n",
       "  border-radius: 1rem;\n",
       "  height: 1rem;\n",
       "  width: 1rem;\n",
       "  text-decoration: none;\n",
       "  /* unfitted */\n",
       "  color: var(--sklearn-color-unfitted-level-1);\n",
       "  border: var(--sklearn-color-unfitted-level-1) 1pt solid;\n",
       "}\n",
       "\n",
       "#sk-container-id-1 a.estimator_doc_link.fitted {\n",
       "  /* fitted */\n",
       "  border: var(--sklearn-color-fitted-level-1) 1pt solid;\n",
       "  color: var(--sklearn-color-fitted-level-1);\n",
       "}\n",
       "\n",
       "/* On hover */\n",
       "#sk-container-id-1 a.estimator_doc_link:hover {\n",
       "  /* unfitted */\n",
       "  background-color: var(--sklearn-color-unfitted-level-3);\n",
       "  color: var(--sklearn-color-background);\n",
       "  text-decoration: none;\n",
       "}\n",
       "\n",
       "#sk-container-id-1 a.estimator_doc_link.fitted:hover {\n",
       "  /* fitted */\n",
       "  background-color: var(--sklearn-color-fitted-level-3);\n",
       "}\n",
       "</style><div id=\"sk-container-id-1\" class=\"sk-top-container\"><div class=\"sk-text-repr-fallback\"><pre>LinearRegression()</pre><b>In a Jupyter environment, please rerun this cell to show the HTML representation or trust the notebook. <br />On GitHub, the HTML representation is unable to render, please try loading this page with nbviewer.org.</b></div><div class=\"sk-container\" hidden><div class=\"sk-item\"><div class=\"sk-estimator fitted sk-toggleable\"><input class=\"sk-toggleable__control sk-hidden--visually\" id=\"sk-estimator-id-1\" type=\"checkbox\" checked><label for=\"sk-estimator-id-1\" class=\"sk-toggleable__label fitted sk-toggleable__label-arrow\"><div><div>LinearRegression</div></div><div><a class=\"sk-estimator-doc-link fitted\" rel=\"noreferrer\" target=\"_blank\" href=\"https://scikit-learn.org/1.6/modules/generated/sklearn.linear_model.LinearRegression.html\">?<span>Documentation for LinearRegression</span></a><span class=\"sk-estimator-doc-link fitted\">i<span>Fitted</span></span></div></label><div class=\"sk-toggleable__content fitted\"><pre>LinearRegression()</pre></div> </div></div></div></div>"
      ],
      "text/plain": [
       "LinearRegression()"
      ]
     },
     "execution_count": 11,
     "metadata": {},
     "output_type": "execute_result"
    }
   ],
   "source": [
    "regression.fit(X_train,y_train)"
   ]
  },
  {
   "cell_type": "code",
   "execution_count": null,
   "id": "56facddf",
   "metadata": {},
   "outputs": [],
   "source": []
  },
  {
   "cell_type": "code",
   "execution_count": 17,
   "id": "fe54b153",
   "metadata": {},
   "outputs": [],
   "source": [
    "from sklearn.metrics import r2_score\n",
    "r2=r2_score(y_test,regression.predict(X_test))"
   ]
  },
  {
   "cell_type": "code",
   "execution_count": 18,
   "id": "6dc73624",
   "metadata": {},
   "outputs": [
    {
     "data": {
      "text/plain": [
       "0.66626142865728"
      ]
     },
     "execution_count": 18,
     "metadata": {},
     "output_type": "execute_result"
    }
   ],
   "source": [
    "r2"
   ]
  },
  {
   "cell_type": "code",
   "execution_count": 20,
   "id": "21c5037d",
   "metadata": {},
   "outputs": [
    {
     "data": {
      "text/plain": [
       "<matplotlib.collections.PathCollection at 0x1431c4c20>"
      ]
     },
     "execution_count": 20,
     "metadata": {},
     "output_type": "execute_result"
    },
    {
     "data": {
      "image/png": "[encoded data removed]",
      "text/plain": [
       "<Figure size 640x480 with 1 Axes>"
      ]
     },
     "metadata": {},
     "output_type": "display_data"
    }
   ],
   "source": [
    "plt.plot(X_train,regression.predict(X_train))\n",
    "plt.scatter(X_train,y_train)"
   ]
  },
  {
   "cell_type": "code",
   "execution_count": 21,
   "id": "f6625902",
   "metadata": {},
   "outputs": [],
   "source": [
    "from sklearn.preprocessing import PolynomialFeatures"
   ]
  },
  {
   "cell_type": "code",
   "execution_count": 24,
   "id": "caf9f2cf",
   "metadata": {},
   "outputs": [],
   "source": [
    "poly=PolynomialFeatures(degree=2,include_bias=True)\n",
    "X_train_poly=poly.fit_transform(X_train)\n",
    "X_test_poly=poly.transform(X_test)\n"
   ]
  },
  {
   "cell_type": "code",
   "execution_count": 25,
   "id": "79dda987",
   "metadata": {},
   "outputs": [
    {
     "data": {
      "text/plain": [
       "array([[ 1.00000000e+00, -1.28331347e+00,  1.64689346e+00],\n",
       "       [ 1.00000000e+00, -4.15669704e-01,  1.72781303e-01],\n",
       "       [ 1.00000000e+00,  1.43179553e+00,  2.05003844e+00],\n",
       "       [ 1.00000000e+00,  2.11902055e+00,  4.49024809e+00],\n",
       "       [ 1.00000000e+00, -6.81237723e-01,  4.64084836e-01],\n",
       "       [ 1.00000000e+00, -1.29959871e+00,  1.68895682e+00],\n",
       "       [ 1.00000000e+00,  1.49782306e+00,  2.24347392e+00],\n",
       "       [ 1.00000000e+00,  4.89758108e-02,  2.39863004e-03],\n",
       "       [ 1.00000000e+00, -2.17867703e+00,  4.74663361e+00],\n",
       "       [ 1.00000000e+00,  2.74467266e+00,  7.53322799e+00],\n",
       "       [ 1.00000000e+00,  2.98302658e-01,  8.89844756e-02],\n",
       "       [ 1.00000000e+00, -1.47372922e+00,  2.17187780e+00],\n",
       "       [ 1.00000000e+00,  2.67799851e+00,  7.17167604e+00],\n",
       "       [ 1.00000000e+00, -2.79580437e+00,  7.81652205e+00],\n",
       "       [ 1.00000000e+00,  2.24972359e+00,  5.06125621e+00],\n",
       "       [ 1.00000000e+00, -2.44667157e-03,  5.98620178e-06],\n",
       "       [ 1.00000000e+00,  1.91731739e+00,  3.67610597e+00],\n",
       "       [ 1.00000000e+00, -2.73330097e+00,  7.47093421e+00],\n",
       "       [ 1.00000000e+00,  1.52073285e+00,  2.31262840e+00],\n",
       "       [ 1.00000000e+00,  2.12648264e+00,  4.52192843e+00]])"
      ]
     },
     "execution_count": 25,
     "metadata": {},
     "output_type": "execute_result"
    }
   ],
   "source": [
    "X_train_poly"
   ]
  },
  {
   "cell_type": "code",
   "execution_count": 26,
   "id": "4be6f4a4",
   "metadata": {},
   "outputs": [
    {
     "data": {
      "text/plain": [
       "array([[ 1.00000000e+00, -6.41770030e-01,  4.11868771e-01],\n",
       "       [ 1.00000000e+00, -2.61414817e+00,  6.83377063e+00],\n",
       "       [ 1.00000000e+00,  1.84797921e+00,  3.41502715e+00],\n",
       "       [ 1.00000000e+00,  1.98333947e-01,  3.93363546e-02],\n",
       "       [ 1.00000000e+00,  2.58458103e+00,  6.68005910e+00],\n",
       "       [ 1.00000000e+00,  1.62394630e+00,  2.63720158e+00],\n",
       "       [ 1.00000000e+00, -6.41114495e-01,  4.11027796e-01],\n",
       "       [ 1.00000000e+00, -1.20285369e+00,  1.44685700e+00],\n",
       "       [ 1.00000000e+00, -2.28852909e+00,  5.23736538e+00],\n",
       "       [ 1.00000000e+00, -2.98783807e+00,  8.92717630e+00],\n",
       "       [ 1.00000000e+00,  6.93716239e-01,  4.81242220e-01],\n",
       "       [ 1.00000000e+00,  1.99918026e-01,  3.99672169e-02],\n",
       "       [ 1.00000000e+00,  2.82320414e+00,  7.97048163e+00],\n",
       "       [ 1.00000000e+00,  1.31867519e-01,  1.73890426e-02],\n",
       "       [ 1.00000000e+00,  8.60938758e-01,  7.41215544e-01],\n",
       "       [ 1.00000000e+00, -2.86110010e+00,  8.18589380e+00],\n",
       "       [ 1.00000000e+00,  1.93592358e+00,  3.74780010e+00],\n",
       "       [ 1.00000000e+00, -1.72526261e+00,  2.97653108e+00],\n",
       "       [ 1.00000000e+00, -2.92157708e+00,  8.53561263e+00],\n",
       "       [ 1.00000000e+00, -1.96546137e+00,  3.86303838e+00],\n",
       "       [ 1.00000000e+00,  1.73121780e+00,  2.99711508e+00],\n",
       "       [ 1.00000000e+00,  1.23803057e+00,  1.53271969e+00],\n",
       "       [ 1.00000000e+00,  2.35574451e-01,  5.54953218e-02],\n",
       "       [ 1.00000000e+00, -2.28648114e+00,  5.22799602e+00],\n",
       "       [ 1.00000000e+00, -6.97084254e-01,  4.85926458e-01],\n",
       "       [ 1.00000000e+00, -6.27778708e-01,  3.94106106e-01],\n",
       "       [ 1.00000000e+00, -7.12335978e-02,  5.07422545e-03],\n",
       "       [ 1.00000000e+00,  2.69240125e+00,  7.24902450e+00],\n",
       "       [ 1.00000000e+00,  1.97091470e+00,  3.88450477e+00],\n",
       "       [ 1.00000000e+00,  1.24848906e+00,  1.55872493e+00],\n",
       "       [ 1.00000000e+00, -1.17642522e+00,  1.38397631e+00],\n",
       "       [ 1.00000000e+00,  5.78047293e-01,  3.34138673e-01],\n",
       "       [ 1.00000000e+00,  1.30865433e+00,  1.71257615e+00],\n",
       "       [ 1.00000000e+00,  1.48105544e+00,  2.19352522e+00],\n",
       "       [ 1.00000000e+00, -1.76796616e+00,  3.12570435e+00],\n",
       "       [ 1.00000000e+00,  2.35343179e-01,  5.53864120e-02],\n",
       "       [ 1.00000000e+00,  1.83130554e+00,  3.35367997e+00],\n",
       "       [ 1.00000000e+00,  1.19920599e+00,  1.43809501e+00],\n",
       "       [ 1.00000000e+00,  4.32453021e-01,  1.87015616e-01],\n",
       "       [ 1.00000000e+00, -2.50932330e+00,  6.29670344e+00],\n",
       "       [ 1.00000000e+00, -5.54569999e-01,  3.07547884e-01],\n",
       "       [ 1.00000000e+00,  2.59573139e+00,  6.73782143e+00],\n",
       "       [ 1.00000000e+00,  2.39400215e+00,  5.73124630e+00],\n",
       "       [ 1.00000000e+00, -6.30189593e-01,  3.97138924e-01],\n",
       "       [ 1.00000000e+00, -1.57632681e+00,  2.48480621e+00],\n",
       "       [ 1.00000000e+00, -1.93887295e+00,  3.75922833e+00],\n",
       "       [ 1.00000000e+00, -1.87531850e+00,  3.51681947e+00],\n",
       "       [ 1.00000000e+00, -1.10413999e+00,  1.21912512e+00],\n",
       "       [ 1.00000000e+00, -2.04314383e+00,  4.17443670e+00],\n",
       "       [ 1.00000000e+00, -2.84098599e+00,  8.07120137e+00],\n",
       "       [ 1.00000000e+00,  8.45802027e-01,  7.15381069e-01],\n",
       "       [ 1.00000000e+00, -1.38254899e+00,  1.91144171e+00],\n",
       "       [ 1.00000000e+00, -8.08846545e-01,  6.54232733e-01],\n",
       "       [ 1.00000000e+00, -1.49593245e+00,  2.23781391e+00],\n",
       "       [ 1.00000000e+00, -1.49518241e+00,  2.23557044e+00],\n",
       "       [ 1.00000000e+00,  2.07926766e+00,  4.32335400e+00],\n",
       "       [ 1.00000000e+00,  2.13197145e+00,  4.54530227e+00],\n",
       "       [ 1.00000000e+00, -2.56699073e+00,  6.58944139e+00],\n",
       "       [ 1.00000000e+00,  1.56772853e+00,  2.45777274e+00],\n",
       "       [ 1.00000000e+00,  2.44571611e+00,  5.98152730e+00],\n",
       "       [ 1.00000000e+00,  2.21021567e+00,  4.88505332e+00],\n",
       "       [ 1.00000000e+00,  1.91831723e+00,  3.67994100e+00],\n",
       "       [ 1.00000000e+00,  2.93399701e+00,  8.60833843e+00],\n",
       "       [ 1.00000000e+00,  2.09553441e+00,  4.39126448e+00],\n",
       "       [ 1.00000000e+00,  2.11845425e+00,  4.48784840e+00],\n",
       "       [ 1.00000000e+00,  8.93915509e-02,  7.99084937e-03],\n",
       "       [ 1.00000000e+00, -1.38838104e+00,  1.92760191e+00],\n",
       "       [ 1.00000000e+00,  2.29974910e+00,  5.28884591e+00],\n",
       "       [ 1.00000000e+00, -1.27184128e+00,  1.61758024e+00],\n",
       "       [ 1.00000000e+00, -2.34825442e+00,  5.51429882e+00],\n",
       "       [ 1.00000000e+00, -2.16108759e+00,  4.67029957e+00],\n",
       "       [ 1.00000000e+00, -3.00025135e-01,  9.00150819e-02],\n",
       "       [ 1.00000000e+00, -1.89536810e+00,  3.59242024e+00],\n",
       "       [ 1.00000000e+00,  2.88069974e+00,  8.29843100e+00],\n",
       "       [ 1.00000000e+00, -1.30849557e+00,  1.71216066e+00],\n",
       "       [ 1.00000000e+00,  7.21999267e-01,  5.21282942e-01],\n",
       "       [ 1.00000000e+00, -1.00913148e+00,  1.01834635e+00],\n",
       "       [ 1.00000000e+00, -2.65527541e+00,  7.05048753e+00],\n",
       "       [ 1.00000000e+00, -1.56122389e-01,  2.43742003e-02],\n",
       "       [ 1.00000000e+00,  3.50017673e-01,  1.22512371e-01]])"
      ]
     },
     "execution_count": 26,
     "metadata": {},
     "output_type": "execute_result"
    }
   ],
   "source": [
    "X_test_poly"
   ]
  },
  {
   "cell_type": "code",
   "execution_count": 27,
   "id": "061f4ebd",
   "metadata": {},
   "outputs": [
    {
     "data": {
      "text/plain": [
       "0.8414944521515695"
      ]
     },
     "execution_count": 27,
     "metadata": {},
     "output_type": "execute_result"
    }
   ],
   "source": [
    "regression.fit(X_train_poly,y_train)\n",
    "y_pred=regression.predict(X_test_poly)\n",
    "r2=r2_score(y_test,y_pred)\n",
    "r2"
   ]
  },
  {
   "cell_type": "code",
   "execution_count": 28,
   "id": "b7274df0",
   "metadata": {},
   "outputs": [
    {
     "data": {
      "text/plain": [
       "(array([[0.        , 1.30106466, 0.48985052]]), array([2.39318563]))"
      ]
     },
     "execution_count": 28,
     "metadata": {},
     "output_type": "execute_result"
    }
   ],
   "source": [
    "regression.coef_,regression.intercept_"
   ]
  },
  {
   "cell_type": "code",
   "execution_count": 35,
   "id": "ec77d760",
   "metadata": {},
   "outputs": [
    {
     "data": {
      "text/plain": [
       "<matplotlib.collections.PathCollection at 0x1694d07d0>"
      ]
     },
     "execution_count": 35,
     "metadata": {},
     "output_type": "execute_result"
    },
    {
     "data": {
      "image/png": "[encoded data removed]",
      "text/plain": [
       "<Figure size 640x480 with 1 Axes>"
      ]
     },
     "metadata": {},
     "output_type": "display_data"
    }
   ],
   "source": [
    "plt.scatter(X_train,regression.predict(X_train_poly))\n",
    "plt.scatter(X_train,y_train)\n"
   ]
  },
  {
   "cell_type": "code",
   "execution_count": 38,
   "id": "7be7899b",
   "metadata": {},
   "outputs": [],
   "source": [
    "X_new=np.linspace(-3,3,200).reshape(200,1)\n",
    "X_new_poly=poly.transform(X_new)\n",
    "y_new=regression.predict(X_new_poly)"
   ]
  },
  {
   "cell_type": "code",
   "execution_count": 40,
   "id": "ac12f5b3",
   "metadata": {},
   "outputs": [
    {
     "data": {
      "text/plain": [
       "<matplotlib.legend.Legend at 0x145486ba0>"
      ]
     },
     "execution_count": 40,
     "metadata": {},
     "output_type": "execute_result"
    },
    {
     "data": {
      "image/png": "[encoded data removed]",
      "text/plain": [
       "<Figure size 640x480 with 1 Axes>"
      ]
     },
     "metadata": {},
     "output_type": "display_data"
    }
   ],
   "source": [
    "plt.plot(X_new,y_new,label=\"New Prediction\")\n",
    "plt.scatter(X_train,y_train,color=\"g\")\n",
    "plt.scatter(X_test,y_test,color=\"r\")\n",
    "plt.legend()"
   ]
  },
  {
   "cell_type": "markdown",
   "id": "8a67236b",
   "metadata": {},
   "source": [
    "pipeline Concepts"
   ]
  },
  {
   "cell_type": "code",
   "execution_count": 41,
   "id": "9fc7d687",
   "metadata": {},
   "outputs": [],
   "source": [
    "from sklearn.pipeline import Pipeline"
   ]
  },
  {
   "cell_type": "code",
   "execution_count": 45,
   "id": "3d4ded6a",
   "metadata": {},
   "outputs": [],
   "source": [
    "def poly_regression(degree):\n",
    "    X_new=np.linspace(-3,3,200).reshape(200,1)\n",
    "    X_new_poly=poly.transform(X_new)\n",
    "    poly_features=PolynomialFeatures(degree=degree)\n",
    "    lin_reg=LinearRegression()\n",
    "    poly_regression=Pipeline([(\"poly_features\",poly_features),(\"lin_reg\",lin_reg)])\n",
    "    poly_regression.fit(X_train,y_train)\n",
    "    y_pred_new=poly_regression.predict(X_new)\n",
    "    plt.plot(X_new,y_pred_new,\"r\",label=\"Degree\"+str(degree))\n",
    "    plt.plot(X_train,y_train,\"b.\")\n",
    "    plt.plot(X_test,y_test,\"g.\")\n",
    "    plt.xlabel(\"X\")\n",
    "    plt.ylabel(\"Y\")\n",
    "    plt.axis([-4,4,0,10])"
   ]
  },
  {
   "cell_type": "code",
   "execution_count": 46,
   "id": "3f7c2175",
   "metadata": {},
   "outputs": [
    {
     "data": {
      "image/png": "[encoded data removed]",
      "text/plain": [
       "<Figure size 640x480 with 1 Axes>"
      ]
     },
     "metadata": {},
     "output_type": "display_data"
    }
   ],
   "source": [
    "poly_regression(1)"
   ]
  },
  {
   "cell_type": "code",
   "execution_count": 47,
   "id": "120a27d4",
   "metadata": {},
   "outputs": [
    {
     "data": {
      "image/png": "[encoded data removed]",
      "text/plain": [
       "<Figure size 640x480 with 1 Axes>"
      ]
     },
     "metadata": {},
     "output_type": "display_data"
    }
   ],
   "source": [
    "poly_regression(2)"
   ]
  },
  {
   "cell_type": "code",
   "execution_count": 48,
   "id": "410f175e",
   "metadata": {},
   "outputs": [
    {
     "data": {
      "image/png": "[encoded data removed]",
      "text/plain": [
       "<Figure size 640x480 with 1 Axes>"
      ]
     },
     "metadata": {},
     "output_type": "display_data"
    }
   ],
   "source": [
    "poly_regression(3)"
   ]
  },
  {
   "cell_type": "code",
   "execution_count": null,
   "id": "c11f9adc",
   "metadata": {},
   "outputs": [],
   "source": []
  }
 ],
 "metadata": {
  "kernelspec": {
   "display_name": "Python 3",
   "language": "python",
   "name": "python3"
  },
  "language_info": {
   "codemirror_mode": {
    "name": "ipython",
    "version": 3
   },
   "file_extension": ".py",
   "mimetype": "text/x-python",
   "name": "python",
   "nbconvert_exporter": "python",
   "pygments_lexer": "ipython3",
   "version": "3.12.11"
  }
 },
 "nbformat": 4,
 "nbformat_minor": 5
}
