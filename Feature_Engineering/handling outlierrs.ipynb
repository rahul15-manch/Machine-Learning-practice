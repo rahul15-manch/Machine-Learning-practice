{
 "cells": [
  {
   "cell_type": "code",
   "execution_count": 1,
   "id": "99db2ed4",
   "metadata": {},
   "outputs": [],
   "source": [
    "import numpy as np"
   ]
  },
  {
   "cell_type": "code",
   "execution_count": 2,
   "id": "a3d42c5e",
   "metadata": {},
   "outputs": [],
   "source": [
    "list_marks=[23,34,45,67,89,100,120,150,200,250,300]"
   ]
  },
  {
   "cell_type": "code",
   "execution_count": 3,
   "id": "a914bf62",
   "metadata": {},
   "outputs": [],
   "source": [
    "Q1=np.quantile(list_marks, 0.25)\n",
    "Q3=np.quantile(list_marks, 0.75)  "
   ]
  },
  {
   "cell_type": "code",
   "execution_count": 4,
   "id": "2b989b54",
   "metadata": {},
   "outputs": [],
   "source": [
    "median=np.quantile(list_marks, 0.5)\n",
    "med=np.median(list_marks)\n",
    "max_value=max(list_marks)\n",
    "min_value=min(list_marks)"
   ]
  },
  {
   "cell_type": "code",
   "execution_count": 5,
   "id": "c82e5e53",
   "metadata": {},
   "outputs": [],
   "source": [
    "iqr=Q3-Q1"
   ]
  },
  {
   "cell_type": "code",
   "execution_count": 7,
   "id": "924874b8",
   "metadata": {},
   "outputs": [
    {
     "name": "stdout",
     "output_type": "stream",
     "text": [
      "Q1: 56.0\n",
      "Q3: 175.0\n",
      "Median: 100.0\n",
      "Median (using np.median): 100.0\n",
      "IQR: 119.0\n",
      "Max Value: 300\n",
      "Min Value: 23\n"
     ]
    }
   ],
   "source": [
    "print(\"Q1:\", Q1)\n",
    "print(\"Q3:\", Q3)\n",
    "print(\"Median:\", median)\n",
    "print(\"Median (using np.median):\", med)\n",
    "print(\"IQR:\", iqr)\n",
    "print(\"Max Value:\", max_value)\n",
    "print(\"Min Value:\", min_value)"
   ]
  },
  {
   "cell_type": "code",
   "execution_count": 8,
   "id": "95e404f8",
   "metadata": {},
   "outputs": [],
   "source": [
    "lowe_fence=Q1-1.5*iqr\n",
    "upper_fence=Q3+1.5*iqr"
   ]
  },
  {
   "cell_type": "code",
   "execution_count": 16,
   "id": "6a374a7f",
   "metadata": {},
   "outputs": [],
   "source": [
    "lowe_fence, upper_fence\n",
    "list_marks=np.array(list_marks)"
   ]
  },
  {
   "cell_type": "code",
   "execution_count": 20,
   "id": "94d21135",
   "metadata": {},
   "outputs": [],
   "source": [
    "outliers = list_marks[(list_marks <= lowe_fence) | (list_marks >= upper_fence)]"
   ]
  },
  {
   "cell_type": "code",
   "execution_count": 21,
   "id": "5483127d",
   "metadata": {},
   "outputs": [
    {
     "data": {
      "text/plain": [
       "array([], dtype=int64)"
      ]
     },
     "execution_count": 21,
     "metadata": {},
     "output_type": "execute_result"
    }
   ],
   "source": [
    "outliers"
   ]
  },
  {
   "cell_type": "code",
   "execution_count": 22,
   "id": "ca535145",
   "metadata": {},
   "outputs": [
    {
     "data": {
      "text/plain": [
       "<Axes: >"
      ]
     },
     "execution_count": 22,
     "metadata": {},
     "output_type": "execute_result"
    },
    {
     "data": {
      "image/png": "[encoded data removed]",
      "text/plain": [
       "<Figure size 640x480 with 1 Axes>"
      ]
     },
     "metadata": {},
     "output_type": "display_data"
    }
   ],
   "source": [
    "import seaborn as sns\n",
    "sns.boxplot(x=list_marks)"
   ]
  },
  {
   "cell_type": "code",
   "execution_count": 26,
   "id": "f090427b",
   "metadata": {},
   "outputs": [],
   "source": [
    "list_marks = [-12,132,150,23, 34, 45, 67, 89, 100, 120, 150, 200, 250, 300,350,1000]"
   ]
  },
  {
   "cell_type": "code",
   "execution_count": 27,
   "id": "11584066",
   "metadata": {},
   "outputs": [
    {
     "data": {
      "text/plain": [
       "<Axes: >"
      ]
     },
     "execution_count": 27,
     "metadata": {},
     "output_type": "execute_result"
    },
    {
     "data": {
      "image/png": "[encoded data removed]",
      "text/plain": [
       "<Figure size 640x480 with 1 Axes>"
      ]
     },
     "metadata": {},
     "output_type": "display_data"
    }
   ],
   "source": [
    "sns.boxplot(list_marks)"
   ]
  },
  {
   "cell_type": "code",
   "execution_count": null,
   "id": "bdfebba3",
   "metadata": {},
   "outputs": [],
   "source": []
  }
 ],
 "metadata": {
  "kernelspec": {
   "display_name": "Python 3",
   "language": "python",
   "name": "python3"
  },
  "language_info": {
   "codemirror_mode": {
    "name": "ipython",
    "version": 3
   },
   "file_extension": ".py",
   "mimetype": "text/x-python",
   "name": "python",
   "nbconvert_exporter": "python",
   "pygments_lexer": "ipython3",
   "version": "3.12.11"
  }
 },
 "nbformat": 4,
 "nbformat_minor": 5
}
